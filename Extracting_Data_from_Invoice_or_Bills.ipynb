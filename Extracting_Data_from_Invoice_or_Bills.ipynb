{
 "cells": [
  {
   "cell_type": "code",
   "execution_count": 4,
   "id": "2cb8d9ba-d14c-428b-ae35-439a077b93ea",
   "metadata": {},
   "outputs": [
    {
     "name": "stdout",
     "output_type": "stream",
     "text": [
      "```json\n",
      "{\n",
      "  \"brand\": \"NIVEA\",\n",
      "  \"product\": \"Milk Delights\",\n",
      "  \"description\": \"Your skin will love what it does. The unique mix of milk proteins and vitamins is free of soap.\",\n",
      "  \"ingredients\": \"Aqua, Glycerin, Stearic Acid, Lauric Acid, Sodium Hydroxide, Myristic Acid, Glycol Distearate, Sodium Laureth Sulfate, Sodium Chloride, Parfum, Tetrasodium EDTA, Zinc Oxide, Panthenol, Hydrogenated Polydecene, Tocopheryl Acetate, Allantoin, Magnesium Sulfate, Disodium Cocoamphodiacetate, Citric Acid, Sodium Benzoate, Phenoxyethanol, Benzyl Alcohol, Limonene, Linalool, Alpha-Isomethyl Ionone, Geraniol, Citronellol, Coumarin, Butylphenyl Methylpropional, CI 77891, CI 19140, CI 42090\",\n",
      "  \"manufacturer\": \"NIVEA India Pvt. Ltd., 39/1, Sanand Industrial Estate, Tal. Viramgam, Sanand, Ahmedabad - 382130, W.B.\",\n",
      "  \"manufactured_by\": \"NIVEA India Pvt. Ltd.\",\n",
      "  \"manufactured_address\": \"39/1, Sanand Industrial Estate, Tal. Viramgam, Sanand, Ahmedabad - 382130, W.B.\",\n",
      "  \"marketed_by\": \"NIVEA India Pvt. Ltd., 4th Floor, Ask, Phoenix Market City, Kurla West, Mumbai, Maharashtra - 400070\",\n",
      "  \"marketed_address\": \"4th Floor, Ask, Phoenix Market City, Kurla West, Mumbai, Maharashtra - 400070\",\n",
      "  \"customer_care\": \"Contact NIVEA Care. Customer of queries/feedback: www.nivea.co.in/en/contact-us\",\n",
      "  \"website\": \"www.nivea.co.in\",\n",
      "  \"email\": \"care@niveaindia.com\",\n",
      "  \"phone\": \"+91-22-40034500\",\n",
      "  \"country\": \"Germany\",\n",
      "  \"batch_no\": \"37441 401 44\",\n",
      "  \"mfg_date\": \"18.07.24\",\n",
      "  \"expiry_date\": \"33.00.2023\",\n",
      "  \"net_content\": \"50ml\",\n",
      "  \"barcode\": \"8 904256 005258\"\n",
      "}\n",
      "```\n"
     ]
    }
   ],
   "source": [
    "# !pip install -U --quiet langchain-google-genai pillow\n",
    "\n",
    "import google.generativeai as genai\n",
    "from langchain_google_genai import ChatGoogleGenerativeAI\n",
    "from langchain_core.messages import HumanMessage\n",
    "\n",
    "# Configure the Google API key directly\n",
    "api_key = \"API_KEY\"\n",
    "genai.configure(api_key=MYapi_key)\n",
    "\n",
    "# Ensure the API key is passed to ChatGoogleGenerativeAI\n",
    "llm = ChatGoogleGenerativeAI(model=\"geminiMODEL\", google_api_key=api_key)\n",
    "\n",
    "# Use an image URL instead of a base64-encoded image\n",
    "# image = PIL.Image.open('amazon.png')\n",
    "image_url = 'ImagePATH'  # Replace with your image URL\n",
    "hmessage1 = HumanMessage(\n",
    "    content=[\n",
    "        {\n",
    "            \"type\": \"text\",\n",
    "            \"text\": \"Create a json with following tags extracted from image and use information only from image for value of each tag - 'product_name','manufactured_date','expiry_date','manufactured_by','marketed_by','ingredients'\",\n",
    "        },  # You can optionally provide text parts\n",
    "        {\"type\": \"image_url\", \"image_url\": image_url},\n",
    "    ]\n",
    ")\n",
    "message1 = llm.invoke([hmessage1])\n",
    "\n",
    "print(message1.content)"
   ]
  },
  {
   "cell_type": "code",
   "execution_count": null,
   "id": "73ef154e-98d4-4c96-afcc-77470e98e805",
   "metadata": {},
   "outputs": [],
   "source": []
  },
  {
   "cell_type": "code",
   "execution_count": null,
   "id": "63aea62a-9f5c-4027-b015-23db4b4151fd",
   "metadata": {},
   "outputs": [],
   "source": []
  }
 ],
 "metadata": {
  "kernelspec": {
   "display_name": "Python 3 (ipykernel)",
   "language": "python",
   "name": "python3"
  },
  "language_info": {
   "codemirror_mode": {
    "name": "ipython",
    "version": 3
   },
   "file_extension": ".py",
   "mimetype": "text/x-python",
   "name": "python",
   "nbconvert_exporter": "python",
   "pygments_lexer": "ipython3",
   "version": "3.12.4"
  }
 },
 "nbformat": 4,
 "nbformat_minor": 5
}
